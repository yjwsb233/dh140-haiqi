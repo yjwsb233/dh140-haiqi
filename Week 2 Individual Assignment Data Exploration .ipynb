{
 "cells": [
  {
   "cell_type": "markdown",
   "metadata": {},
   "source": [
    "## Week Two Assignment\n",
    "In this file, I will be running different commands on the dataset about coral bleaching to get an overview of what this file contains and what it could potentially be used for. The coral bleaching data is a global dataset and thus contains information about corals around the world."
   ]
  },
  {
   "cell_type": "markdown",
   "metadata": {},
   "source": [
    "### Import the geopandas package and shorten its name to be gpd"
   ]
  },
  {
   "cell_type": "code",
   "execution_count": 1,
   "metadata": {},
   "outputs": [],
   "source": [
    "import geopandas as gpd "
   ]
  },
  {
   "cell_type": "markdown",
   "metadata": {},
   "source": [
    "### Import the dataset file"
   ]
  },
  {
   "cell_type": "code",
   "execution_count": 2,
   "metadata": {},
   "outputs": [],
   "source": [
    "coral = gpd.read_file('CoralBleaching.csv') #named the file 'coral' for easy reference"
   ]
  },
  {
   "cell_type": "markdown",
   "metadata": {},
   "source": [
    "### Define the coordinate system to be 4326"
   ]
  },
  {
   "cell_type": "code",
   "execution_count": 3,
   "metadata": {},
   "outputs": [],
   "source": [
    "coral.crs = 'epsg:4326' "
   ]
  },
  {
   "cell_type": "markdown",
   "metadata": {},
   "source": [
    "### Get information about the size of the file "
   ]
  },
  {
   "cell_type": "code",
   "execution_count": 4,
   "metadata": {},
   "outputs": [
    {
     "data": {
      "text/plain": [
       "(6190, 29)"
      ]
     },
     "execution_count": 4,
     "metadata": {},
     "output_type": "execute_result"
    }
   ],
   "source": [
    "coral.shape "
   ]
  },
  {
   "cell_type": "markdown",
   "metadata": {},
   "source": [
    "The file contains 6190 rows (data entries) and 29 columns (atrributes) "
   ]
  },
  {
   "cell_type": "markdown",
   "metadata": {},
   "source": [
    "### Get details on the attributes in the file "
   ]
  },
  {
   "cell_type": "code",
   "execution_count": 5,
   "metadata": {},
   "outputs": [
    {
     "name": "stdout",
     "output_type": "stream",
     "text": [
      "<class 'geopandas.geodataframe.GeoDataFrame'>\n",
      "RangeIndex: 6190 entries, 0 to 6189\n",
      "Data columns (total 29 columns):\n",
      " #   Column               Non-Null Count  Dtype   \n",
      "---  ------               --------------  -----   \n",
      " 0   ID                   6190 non-null   object  \n",
      " 1   REGION               6190 non-null   object  \n",
      " 2   SUBREGION            6190 non-null   object  \n",
      " 3   COUNTRY              6190 non-null   object  \n",
      " 4   LOCATION             6190 non-null   object  \n",
      " 5   LAT                  6190 non-null   object  \n",
      " 6   LON                  6190 non-null   object  \n",
      " 7   MONTH                6190 non-null   object  \n",
      " 8   YEAR                 6190 non-null   object  \n",
      " 9   DEPTH                6190 non-null   object  \n",
      " 10  SEVERITY_CODE        6190 non-null   object  \n",
      " 11  BLEACHING_SEVERITY   6190 non-null   object  \n",
      " 12  CORAL_FAMILY         6190 non-null   object  \n",
      " 13  CORAL_SPECIES        6190 non-null   object  \n",
      " 14  PERCENTAGE_AFFECTED  6190 non-null   object  \n",
      " 15  BLEACHING_DURATION   6190 non-null   object  \n",
      " 16  MORTALITY_CODE       6190 non-null   object  \n",
      " 17  MORTALITY            6190 non-null   object  \n",
      " 18  RECOVERY_CODE        6190 non-null   object  \n",
      " 19  RECOVERY             6190 non-null   object  \n",
      " 20  SURVEY_TYPE          6190 non-null   object  \n",
      " 21  SURVEY_AREA          6190 non-null   object  \n",
      " 22  WATER_TEMPERATURE    6190 non-null   object  \n",
      " 23  OTHER_FACTORS        6190 non-null   object  \n",
      " 24  REMARKS              6190 non-null   object  \n",
      " 25  SOURCE               6190 non-null   object  \n",
      " 26  REFERENCE_CODE       6190 non-null   object  \n",
      " 27  COUNTRY_CODE         6190 non-null   object  \n",
      " 28  geometry             0 non-null      geometry\n",
      "dtypes: geometry(1), object(28)\n",
      "memory usage: 1.4+ MB\n"
     ]
    }
   ],
   "source": [
    "coral.info()"
   ]
  },
  {
   "cell_type": "markdown",
   "metadata": {},
   "source": [
    "Shows the types of all the attributes and the number of entries in each of them. All 6190 of entries are non-null."
   ]
  },
  {
   "cell_type": "markdown",
   "metadata": {},
   "source": [
    "### Output the first five rows in the file "
   ]
  },
  {
   "cell_type": "code",
   "execution_count": 6,
   "metadata": {},
   "outputs": [
    {
     "data": {
      "text/html": [
       "<div>\n",
       "<style scoped>\n",
       "    .dataframe tbody tr th:only-of-type {\n",
       "        vertical-align: middle;\n",
       "    }\n",
       "\n",
       "    .dataframe tbody tr th {\n",
       "        vertical-align: top;\n",
       "    }\n",
       "\n",
       "    .dataframe thead th {\n",
       "        text-align: right;\n",
       "    }\n",
       "</style>\n",
       "<table border=\"1\" class=\"dataframe\">\n",
       "  <thead>\n",
       "    <tr style=\"text-align: right;\">\n",
       "      <th></th>\n",
       "      <th>ID</th>\n",
       "      <th>REGION</th>\n",
       "      <th>SUBREGION</th>\n",
       "      <th>COUNTRY</th>\n",
       "      <th>LOCATION</th>\n",
       "      <th>LAT</th>\n",
       "      <th>LON</th>\n",
       "      <th>MONTH</th>\n",
       "      <th>YEAR</th>\n",
       "      <th>DEPTH</th>\n",
       "      <th>...</th>\n",
       "      <th>RECOVERY</th>\n",
       "      <th>SURVEY_TYPE</th>\n",
       "      <th>SURVEY_AREA</th>\n",
       "      <th>WATER_TEMPERATURE</th>\n",
       "      <th>OTHER_FACTORS</th>\n",
       "      <th>REMARKS</th>\n",
       "      <th>SOURCE</th>\n",
       "      <th>REFERENCE_CODE</th>\n",
       "      <th>COUNTRY_CODE</th>\n",
       "      <th>geometry</th>\n",
       "    </tr>\n",
       "  </thead>\n",
       "  <tbody>\n",
       "    <tr>\n",
       "      <th>0</th>\n",
       "      <td>7067</td>\n",
       "      <td></td>\n",
       "      <td></td>\n",
       "      <td>France</td>\n",
       "      <td>Hermitage, Reunion</td>\n",
       "      <td>-21.22</td>\n",
       "      <td>55.22</td>\n",
       "      <td>4</td>\n",
       "      <td>2008</td>\n",
       "      <td>6</td>\n",
       "      <td>...</td>\n",
       "      <td></td>\n",
       "      <td>Reef Check Protocol</td>\n",
       "      <td></td>\n",
       "      <td></td>\n",
       "      <td></td>\n",
       "      <td>0% of recorded Recently killed coral on substr...</td>\n",
       "      <td>Reef Check, Submitted by Harold Cambert. Site ...</td>\n",
       "      <td></td>\n",
       "      <td>FRA</td>\n",
       "      <td>None</td>\n",
       "    </tr>\n",
       "    <tr>\n",
       "      <th>1</th>\n",
       "      <td>7068</td>\n",
       "      <td></td>\n",
       "      <td></td>\n",
       "      <td>France</td>\n",
       "      <td>Saint Gilles, Reunion</td>\n",
       "      <td>-21.05</td>\n",
       "      <td>55.23</td>\n",
       "      <td>7</td>\n",
       "      <td>2008</td>\n",
       "      <td>6.5</td>\n",
       "      <td>...</td>\n",
       "      <td></td>\n",
       "      <td>Reef Check Protocol</td>\n",
       "      <td></td>\n",
       "      <td></td>\n",
       "      <td></td>\n",
       "      <td>0% of recorded Recently killed coral on substr...</td>\n",
       "      <td>Reef Check, Submitted by Harold Cambert. Site ...</td>\n",
       "      <td></td>\n",
       "      <td>FRA</td>\n",
       "      <td>None</td>\n",
       "    </tr>\n",
       "    <tr>\n",
       "      <th>2</th>\n",
       "      <td>7069</td>\n",
       "      <td></td>\n",
       "      <td></td>\n",
       "      <td>France</td>\n",
       "      <td>Saint-Leu, Reunion</td>\n",
       "      <td>-21.16</td>\n",
       "      <td>55.28</td>\n",
       "      <td>2</td>\n",
       "      <td>2008</td>\n",
       "      <td>6</td>\n",
       "      <td>...</td>\n",
       "      <td></td>\n",
       "      <td>Reef Check Protocol</td>\n",
       "      <td></td>\n",
       "      <td></td>\n",
       "      <td></td>\n",
       "      <td>0% of recorded Recently killed coral on substr...</td>\n",
       "      <td>Reef Check, Submitted by Harold Cambert . Site...</td>\n",
       "      <td></td>\n",
       "      <td>FRA</td>\n",
       "      <td>None</td>\n",
       "    </tr>\n",
       "    <tr>\n",
       "      <th>3</th>\n",
       "      <td>4024</td>\n",
       "      <td></td>\n",
       "      <td></td>\n",
       "      <td>France</td>\n",
       "      <td>SE France</td>\n",
       "      <td>43</td>\n",
       "      <td>5</td>\n",
       "      <td>8</td>\n",
       "      <td>1999</td>\n",
       "      <td></td>\n",
       "      <td>...</td>\n",
       "      <td></td>\n",
       "      <td>Diving</td>\n",
       "      <td>100 km</td>\n",
       "      <td>22-23.9 °C</td>\n",
       "      <td></td>\n",
       "      <td>Bleaching of Cladocora caespitosa and Oculina ...</td>\n",
       "      <td>Martin Pêcheux (martin-pecheux@wanadoo.fr) per...</td>\n",
       "      <td></td>\n",
       "      <td>FRA</td>\n",
       "      <td>None</td>\n",
       "    </tr>\n",
       "    <tr>\n",
       "      <th>4</th>\n",
       "      <td>7049</td>\n",
       "      <td></td>\n",
       "      <td></td>\n",
       "      <td>Macau</td>\n",
       "      <td>Koh Tao, Surat Thani</td>\n",
       "      <td>10.12</td>\n",
       "      <td>99.81</td>\n",
       "      <td>7</td>\n",
       "      <td>2009</td>\n",
       "      <td>4</td>\n",
       "      <td>...</td>\n",
       "      <td></td>\n",
       "      <td>Reef Check Protocol</td>\n",
       "      <td></td>\n",
       "      <td>Air temp 28 Deg C, Water temp 29 Deg C</td>\n",
       "      <td></td>\n",
       "      <td>0% of recorded recently killed coral on substr...</td>\n",
       "      <td>Reef check submitted by Suchana Apple Chavanic...</td>\n",
       "      <td></td>\n",
       "      <td>MAC</td>\n",
       "      <td>None</td>\n",
       "    </tr>\n",
       "  </tbody>\n",
       "</table>\n",
       "<p>5 rows × 29 columns</p>\n",
       "</div>"
      ],
      "text/plain": [
       "     ID REGION SUBREGION COUNTRY               LOCATION     LAT    LON MONTH  \\\n",
       "0  7067                   France     Hermitage, Reunion  -21.22  55.22     4   \n",
       "1  7068                   France  Saint Gilles, Reunion  -21.05  55.23     7   \n",
       "2  7069                   France     Saint-Leu, Reunion  -21.16  55.28     2   \n",
       "3  4024                   France              SE France      43      5     8   \n",
       "4  7049                    Macau   Koh Tao, Surat Thani   10.12  99.81     7   \n",
       "\n",
       "   YEAR DEPTH  ... RECOVERY          SURVEY_TYPE SURVEY_AREA  \\\n",
       "0  2008     6  ...           Reef Check Protocol               \n",
       "1  2008   6.5  ...           Reef Check Protocol               \n",
       "2  2008     6  ...           Reef Check Protocol               \n",
       "3  1999        ...                        Diving      100 km   \n",
       "4  2009     4  ...           Reef Check Protocol               \n",
       "\n",
       "                        WATER_TEMPERATURE OTHER_FACTORS  \\\n",
       "0                                                         \n",
       "1                                                         \n",
       "2                                                         \n",
       "3                              22-23.9 °C                 \n",
       "4  Air temp 28 Deg C, Water temp 29 Deg C                 \n",
       "\n",
       "                                             REMARKS  \\\n",
       "0  0% of recorded Recently killed coral on substr...   \n",
       "1  0% of recorded Recently killed coral on substr...   \n",
       "2  0% of recorded Recently killed coral on substr...   \n",
       "3  Bleaching of Cladocora caespitosa and Oculina ...   \n",
       "4  0% of recorded recently killed coral on substr...   \n",
       "\n",
       "                                              SOURCE REFERENCE_CODE  \\\n",
       "0  Reef Check, Submitted by Harold Cambert. Site ...                  \n",
       "1  Reef Check, Submitted by Harold Cambert. Site ...                  \n",
       "2  Reef Check, Submitted by Harold Cambert . Site...                  \n",
       "3  Martin Pêcheux (martin-pecheux@wanadoo.fr) per...                  \n",
       "4  Reef check submitted by Suchana Apple Chavanic...                  \n",
       "\n",
       "  COUNTRY_CODE geometry  \n",
       "0          FRA     None  \n",
       "1          FRA     None  \n",
       "2          FRA     None  \n",
       "3          FRA     None  \n",
       "4          MAC     None  \n",
       "\n",
       "[5 rows x 29 columns]"
      ]
     },
     "execution_count": 6,
     "metadata": {},
     "output_type": "execute_result"
    }
   ],
   "source": [
    "coral.head()"
   ]
  },
  {
   "cell_type": "markdown",
   "metadata": {},
   "source": [
    "### Output the last three rows in the file "
   ]
  },
  {
   "cell_type": "code",
   "execution_count": 7,
   "metadata": {},
   "outputs": [
    {
     "data": {
      "text/html": [
       "<div>\n",
       "<style scoped>\n",
       "    .dataframe tbody tr th:only-of-type {\n",
       "        vertical-align: middle;\n",
       "    }\n",
       "\n",
       "    .dataframe tbody tr th {\n",
       "        vertical-align: top;\n",
       "    }\n",
       "\n",
       "    .dataframe thead th {\n",
       "        text-align: right;\n",
       "    }\n",
       "</style>\n",
       "<table border=\"1\" class=\"dataframe\">\n",
       "  <thead>\n",
       "    <tr style=\"text-align: right;\">\n",
       "      <th></th>\n",
       "      <th>ID</th>\n",
       "      <th>REGION</th>\n",
       "      <th>SUBREGION</th>\n",
       "      <th>COUNTRY</th>\n",
       "      <th>LOCATION</th>\n",
       "      <th>LAT</th>\n",
       "      <th>LON</th>\n",
       "      <th>MONTH</th>\n",
       "      <th>YEAR</th>\n",
       "      <th>DEPTH</th>\n",
       "      <th>...</th>\n",
       "      <th>RECOVERY</th>\n",
       "      <th>SURVEY_TYPE</th>\n",
       "      <th>SURVEY_AREA</th>\n",
       "      <th>WATER_TEMPERATURE</th>\n",
       "      <th>OTHER_FACTORS</th>\n",
       "      <th>REMARKS</th>\n",
       "      <th>SOURCE</th>\n",
       "      <th>REFERENCE_CODE</th>\n",
       "      <th>COUNTRY_CODE</th>\n",
       "      <th>geometry</th>\n",
       "    </tr>\n",
       "  </thead>\n",
       "  <tbody>\n",
       "    <tr>\n",
       "      <th>6187</th>\n",
       "      <td>748</td>\n",
       "      <td>Pacific</td>\n",
       "      <td>US Pacific Islands</td>\n",
       "      <td>Minor Outlying Islands</td>\n",
       "      <td>Kingman Island</td>\n",
       "      <td>6.4</td>\n",
       "      <td>-162.4</td>\n",
       "      <td></td>\n",
       "      <td>1998</td>\n",
       "      <td></td>\n",
       "      <td>...</td>\n",
       "      <td></td>\n",
       "      <td></td>\n",
       "      <td></td>\n",
       "      <td></td>\n",
       "      <td></td>\n",
       "      <td>major bleaching</td>\n",
       "      <td>GCRMN 2000. Chapter 13</td>\n",
       "      <td>0</td>\n",
       "      <td>UMI</td>\n",
       "      <td>None</td>\n",
       "    </tr>\n",
       "    <tr>\n",
       "      <th>6188</th>\n",
       "      <td>3881</td>\n",
       "      <td>Pacific</td>\n",
       "      <td>US Pacific Islands</td>\n",
       "      <td>Palmyra Atoll</td>\n",
       "      <td>Palmyra Atoll</td>\n",
       "      <td>5.869</td>\n",
       "      <td>-162.071</td>\n",
       "      <td>10</td>\n",
       "      <td>2002</td>\n",
       "      <td>reef flat</td>\n",
       "      <td>...</td>\n",
       "      <td></td>\n",
       "      <td>Boat Survey</td>\n",
       "      <td></td>\n",
       "      <td></td>\n",
       "      <td></td>\n",
       "      <td>There are obvious signs of bleaching on the we...</td>\n",
       "      <td>Chris Depkin, USFWS, Palmyra Atoll NWR in NOAA...</td>\n",
       "      <td></td>\n",
       "      <td>UMI_PAL</td>\n",
       "      <td>None</td>\n",
       "    </tr>\n",
       "    <tr>\n",
       "      <th>6189</th>\n",
       "      <td>3882</td>\n",
       "      <td>Pacific</td>\n",
       "      <td>US Pacific Islands</td>\n",
       "      <td>Palmyra Atoll</td>\n",
       "      <td>Penguin Spit, South of Sand Island, Palmyra Atoll</td>\n",
       "      <td>5.869</td>\n",
       "      <td>-162.071</td>\n",
       "      <td>9</td>\n",
       "      <td>2002</td>\n",
       "      <td>shallow</td>\n",
       "      <td>...</td>\n",
       "      <td></td>\n",
       "      <td>Snorkle</td>\n",
       "      <td></td>\n",
       "      <td></td>\n",
       "      <td></td>\n",
       "      <td>There were a \"few\" spots that were suspiciousl...</td>\n",
       "      <td>Chris Depkin, USFWS, Palmyra Atoll NWR in NOAA...</td>\n",
       "      <td></td>\n",
       "      <td>UMI_PAL</td>\n",
       "      <td>None</td>\n",
       "    </tr>\n",
       "  </tbody>\n",
       "</table>\n",
       "<p>3 rows × 29 columns</p>\n",
       "</div>"
      ],
      "text/plain": [
       "        ID   REGION           SUBREGION                 COUNTRY  \\\n",
       "6187   748  Pacific  US Pacific Islands  Minor Outlying Islands   \n",
       "6188  3881  Pacific  US Pacific Islands           Palmyra Atoll   \n",
       "6189  3882  Pacific  US Pacific Islands           Palmyra Atoll   \n",
       "\n",
       "                                               LOCATION    LAT       LON  \\\n",
       "6187                                     Kingman Island    6.4    -162.4   \n",
       "6188                                      Palmyra Atoll  5.869  -162.071   \n",
       "6189  Penguin Spit, South of Sand Island, Palmyra Atoll  5.869  -162.071   \n",
       "\n",
       "     MONTH  YEAR      DEPTH  ... RECOVERY  SURVEY_TYPE SURVEY_AREA  \\\n",
       "6187        1998             ...                                     \n",
       "6188    10  2002  reef flat  ...           Boat Survey               \n",
       "6189     9  2002    shallow  ...               Snorkle               \n",
       "\n",
       "     WATER_TEMPERATURE OTHER_FACTORS  \\\n",
       "6187                                   \n",
       "6188                                   \n",
       "6189                                   \n",
       "\n",
       "                                                REMARKS  \\\n",
       "6187                                    major bleaching   \n",
       "6188  There are obvious signs of bleaching on the we...   \n",
       "6189  There were a \"few\" spots that were suspiciousl...   \n",
       "\n",
       "                                                 SOURCE REFERENCE_CODE  \\\n",
       "6187                             GCRMN 2000. Chapter 13              0   \n",
       "6188  Chris Depkin, USFWS, Palmyra Atoll NWR in NOAA...                  \n",
       "6189  Chris Depkin, USFWS, Palmyra Atoll NWR in NOAA...                  \n",
       "\n",
       "     COUNTRY_CODE geometry  \n",
       "6187          UMI     None  \n",
       "6188      UMI_PAL     None  \n",
       "6189      UMI_PAL     None  \n",
       "\n",
       "[3 rows x 29 columns]"
      ]
     },
     "execution_count": 7,
     "metadata": {},
     "output_type": "execute_result"
    }
   ],
   "source": [
    "coral.tail(3)"
   ]
  },
  {
   "cell_type": "markdown",
   "metadata": {},
   "source": [
    "The result does not show all 29 columns because there are too many. "
   ]
  },
  {
   "cell_type": "markdown",
   "metadata": {},
   "source": [
    "### Find the number of countries in the file"
   ]
  },
  {
   "cell_type": "code",
   "execution_count": 8,
   "metadata": {},
   "outputs": [
    {
     "data": {
      "text/plain": [
       "Torres Strait & Great Barrier Reef    2022\n",
       "Mexico                                 873\n",
       "Fiji                                   410\n",
       "Cuba                                   196\n",
       "Malaysia                               169\n",
       "                                      ... \n",
       "St. Helena                               1\n",
       "St. Vincent and the Grenadines           1\n",
       "Borneo                                   1\n",
       "Grenada                                  1\n",
       "Haiti                                    1\n",
       "Name: COUNTRY, Length: 112, dtype: int64"
      ]
     },
     "execution_count": 8,
     "metadata": {},
     "output_type": "execute_result"
    }
   ],
   "source": [
    "coral['COUNTRY'].value_counts()"
   ]
  },
  {
   "cell_type": "markdown",
   "metadata": {},
   "source": [
    "The result does not show the number of data entries for all the countries because there are a total of 112 countries in the file. However, we can see that the Torres Strait and Great Barrier has the largest number of data (2022)."
   ]
  },
  {
   "cell_type": "markdown",
   "metadata": {},
   "source": [
    "### Find the number of entries for each year"
   ]
  },
  {
   "cell_type": "code",
   "execution_count": 9,
   "metadata": {},
   "outputs": [
    {
     "data": {
      "text/plain": [
       "1998    2054\n",
       "2002     824\n",
       "2005     668\n",
       "2006     298\n",
       "2004     297\n",
       "2003     257\n",
       "2001     213\n",
       "2010     205\n",
       "2009     188\n",
       "1999     177\n",
       "2000     170\n",
       "2008     140\n",
       "2007     124\n",
       "1994      97\n",
       "1987      86\n",
       "2011      63\n",
       "1983      48\n",
       "1992      46\n",
       "1997      44\n",
       "2012      40\n",
       "1995      27\n",
       "1996      21\n",
       "1982      20\n",
       "1991      13\n",
       "1986      12\n",
       "1993      11\n",
       "1980      11\n",
       "1990      11\n",
       "1979       6\n",
       "1989       4\n",
       "1985       3\n",
       "1988       2\n",
       "1969       2\n",
       "1984       2\n",
       "1981       2\n",
       "1976       1\n",
       "1973       1\n",
       "1963       1\n",
       "1977       1\n",
       "Name: YEAR, dtype: int64"
      ]
     },
     "execution_count": 9,
     "metadata": {},
     "output_type": "execute_result"
    }
   ],
   "source": [
    "coral['YEAR'].value_counts()"
   ]
  },
  {
   "cell_type": "markdown",
   "metadata": {},
   "source": [
    "The result shows that the largest number of data was collected in 1998, which is significantly greater than the data collected for the other years. ALthough it shows all the years with available data, it doesn't show the range of the years in a straightforward year. Therefore, the following two functions are required."
   ]
  },
  {
   "cell_type": "markdown",
   "metadata": {},
   "source": [
    "### Find the earliest year when data was collected"
   ]
  },
  {
   "cell_type": "code",
   "execution_count": 10,
   "metadata": {},
   "outputs": [
    {
     "data": {
      "text/plain": [
       "'1963'"
      ]
     },
     "execution_count": 10,
     "metadata": {},
     "output_type": "execute_result"
    }
   ],
   "source": [
    "min(coral['YEAR'])"
   ]
  },
  {
   "cell_type": "markdown",
   "metadata": {},
   "source": [
    "### Find the latest year when data was collected "
   ]
  },
  {
   "cell_type": "code",
   "execution_count": 11,
   "metadata": {},
   "outputs": [
    {
     "data": {
      "text/plain": [
       "'2012'"
      ]
     },
     "execution_count": 11,
     "metadata": {},
     "output_type": "execute_result"
    }
   ],
   "source": [
    "max(coral['YEAR'])"
   ]
  },
  {
   "cell_type": "markdown",
   "metadata": {},
   "source": [
    "### Find the total number of coral reefs in each bleaching state"
   ]
  },
  {
   "cell_type": "code",
   "execution_count": 12,
   "metadata": {},
   "outputs": [
    {
     "data": {
      "text/plain": [
       "No Bleaching        1477\n",
       "Low                 1429\n",
       "Severity Unknown    1201\n",
       "HIGH                1172\n",
       "Medium               911\n",
       "Name: BLEACHING_SEVERITY, dtype: int64"
      ]
     },
     "execution_count": 12,
     "metadata": {},
     "output_type": "execute_result"
    }
   ],
   "source": [
    "bleaching_coral = coral['BLEACHING_SEVERITY'].value_counts()\n",
    "bleaching_coral"
   ]
  },
  {
   "cell_type": "markdown",
   "metadata": {},
   "source": [
    "### Convert the series to dataframe"
   ]
  },
  {
   "cell_type": "code",
   "execution_count": 13,
   "metadata": {},
   "outputs": [
    {
     "data": {
      "text/html": [
       "<div>\n",
       "<style scoped>\n",
       "    .dataframe tbody tr th:only-of-type {\n",
       "        vertical-align: middle;\n",
       "    }\n",
       "\n",
       "    .dataframe tbody tr th {\n",
       "        vertical-align: top;\n",
       "    }\n",
       "\n",
       "    .dataframe thead th {\n",
       "        text-align: right;\n",
       "    }\n",
       "</style>\n",
       "<table border=\"1\" class=\"dataframe\">\n",
       "  <thead>\n",
       "    <tr style=\"text-align: right;\">\n",
       "      <th></th>\n",
       "      <th>index</th>\n",
       "      <th>BLEACHING_SEVERITY</th>\n",
       "    </tr>\n",
       "  </thead>\n",
       "  <tbody>\n",
       "    <tr>\n",
       "      <th>0</th>\n",
       "      <td>No Bleaching</td>\n",
       "      <td>1477</td>\n",
       "    </tr>\n",
       "    <tr>\n",
       "      <th>1</th>\n",
       "      <td>Low</td>\n",
       "      <td>1429</td>\n",
       "    </tr>\n",
       "    <tr>\n",
       "      <th>2</th>\n",
       "      <td>Severity Unknown</td>\n",
       "      <td>1201</td>\n",
       "    </tr>\n",
       "    <tr>\n",
       "      <th>3</th>\n",
       "      <td>HIGH</td>\n",
       "      <td>1172</td>\n",
       "    </tr>\n",
       "    <tr>\n",
       "      <th>4</th>\n",
       "      <td>Medium</td>\n",
       "      <td>911</td>\n",
       "    </tr>\n",
       "  </tbody>\n",
       "</table>\n",
       "</div>"
      ],
      "text/plain": [
       "              index  BLEACHING_SEVERITY\n",
       "0      No Bleaching                1477\n",
       "1               Low                1429\n",
       "2  Severity Unknown                1201\n",
       "3              HIGH                1172\n",
       "4            Medium                 911"
      ]
     },
     "execution_count": 13,
     "metadata": {},
     "output_type": "execute_result"
    }
   ],
   "source": [
    "bleaching_coral = bleaching_coral.reset_index()\n",
    "bleaching_coral"
   ]
  },
  {
   "cell_type": "markdown",
   "metadata": {},
   "source": [
    "### Trim the dataset to only two columns: year and bleaching severity"
   ]
  },
  {
   "cell_type": "code",
   "execution_count": 14,
   "metadata": {},
   "outputs": [],
   "source": [
    "trimmed_coral = coral[['YEAR', 'BLEACHING_SEVERITY']]"
   ]
  },
  {
   "cell_type": "markdown",
   "metadata": {},
   "source": [
    "### Find all the records for the year 2000"
   ]
  },
  {
   "cell_type": "code",
   "execution_count": 15,
   "metadata": {},
   "outputs": [
    {
     "data": {
      "text/html": [
       "<div>\n",
       "<style scoped>\n",
       "    .dataframe tbody tr th:only-of-type {\n",
       "        vertical-align: middle;\n",
       "    }\n",
       "\n",
       "    .dataframe tbody tr th {\n",
       "        vertical-align: top;\n",
       "    }\n",
       "\n",
       "    .dataframe thead th {\n",
       "        text-align: right;\n",
       "    }\n",
       "</style>\n",
       "<table border=\"1\" class=\"dataframe\">\n",
       "  <thead>\n",
       "    <tr style=\"text-align: right;\">\n",
       "      <th></th>\n",
       "      <th>YEAR</th>\n",
       "      <th>BLEACHING_SEVERITY</th>\n",
       "    </tr>\n",
       "  </thead>\n",
       "  <tbody>\n",
       "    <tr>\n",
       "      <th>76</th>\n",
       "      <td>2000</td>\n",
       "      <td>Low</td>\n",
       "    </tr>\n",
       "    <tr>\n",
       "      <th>79</th>\n",
       "      <td>2000</td>\n",
       "      <td>Low</td>\n",
       "    </tr>\n",
       "    <tr>\n",
       "      <th>82</th>\n",
       "      <td>2000</td>\n",
       "      <td>Low</td>\n",
       "    </tr>\n",
       "    <tr>\n",
       "      <th>85</th>\n",
       "      <td>2000</td>\n",
       "      <td>No Bleaching</td>\n",
       "    </tr>\n",
       "    <tr>\n",
       "      <th>86</th>\n",
       "      <td>2000</td>\n",
       "      <td>Severity Unknown</td>\n",
       "    </tr>\n",
       "    <tr>\n",
       "      <th>...</th>\n",
       "      <td>...</td>\n",
       "      <td>...</td>\n",
       "    </tr>\n",
       "    <tr>\n",
       "      <th>6008</th>\n",
       "      <td>2000</td>\n",
       "      <td>Medium</td>\n",
       "    </tr>\n",
       "    <tr>\n",
       "      <th>6009</th>\n",
       "      <td>2000</td>\n",
       "      <td>Medium</td>\n",
       "    </tr>\n",
       "    <tr>\n",
       "      <th>6011</th>\n",
       "      <td>2000</td>\n",
       "      <td>Medium</td>\n",
       "    </tr>\n",
       "    <tr>\n",
       "      <th>6012</th>\n",
       "      <td>2000</td>\n",
       "      <td>Medium</td>\n",
       "    </tr>\n",
       "    <tr>\n",
       "      <th>6036</th>\n",
       "      <td>2000</td>\n",
       "      <td>Medium</td>\n",
       "    </tr>\n",
       "  </tbody>\n",
       "</table>\n",
       "<p>170 rows × 2 columns</p>\n",
       "</div>"
      ],
      "text/plain": [
       "      YEAR BLEACHING_SEVERITY\n",
       "76    2000                Low\n",
       "79    2000                Low\n",
       "82    2000                Low\n",
       "85    2000       No Bleaching\n",
       "86    2000   Severity Unknown\n",
       "...    ...                ...\n",
       "6008  2000             Medium\n",
       "6009  2000             Medium\n",
       "6011  2000             Medium\n",
       "6012  2000             Medium\n",
       "6036  2000             Medium\n",
       "\n",
       "[170 rows x 2 columns]"
      ]
     },
     "execution_count": 15,
     "metadata": {},
     "output_type": "execute_result"
    }
   ],
   "source": [
    "coral2000 = trimmed_coral[trimmed_coral['YEAR'] == '2000']\n",
    "coral2000"
   ]
  },
  {
   "cell_type": "markdown",
   "metadata": {},
   "source": [
    "There are a total number of 170 data entries for 2000."
   ]
  },
  {
   "cell_type": "markdown",
   "metadata": {},
   "source": [
    "### Find the percentage of corals with high bleaching severity in 2000"
   ]
  },
  {
   "cell_type": "code",
   "execution_count": 16,
   "metadata": {},
   "outputs": [
    {
     "data": {
      "text/plain": [
       "0.16470588235294117"
      ]
     },
     "execution_count": 16,
     "metadata": {},
     "output_type": "execute_result"
    }
   ],
   "source": [
    "high2000 = len(coral2000[coral2000['BLEACHING_SEVERITY'] == 'HIGH'])/len(coral2000)\n",
    "high2000"
   ]
  },
  {
   "cell_type": "markdown",
   "metadata": {},
   "source": [
    "The calculation shows that there is about 16.47% of corals with a high bleaching severity. "
   ]
  },
  {
   "cell_type": "markdown",
   "metadata": {},
   "source": [
    "### Find all the records for the year 2010"
   ]
  },
  {
   "cell_type": "code",
   "execution_count": 17,
   "metadata": {},
   "outputs": [
    {
     "data": {
      "text/html": [
       "<div>\n",
       "<style scoped>\n",
       "    .dataframe tbody tr th:only-of-type {\n",
       "        vertical-align: middle;\n",
       "    }\n",
       "\n",
       "    .dataframe tbody tr th {\n",
       "        vertical-align: top;\n",
       "    }\n",
       "\n",
       "    .dataframe thead th {\n",
       "        text-align: right;\n",
       "    }\n",
       "</style>\n",
       "<table border=\"1\" class=\"dataframe\">\n",
       "  <thead>\n",
       "    <tr style=\"text-align: right;\">\n",
       "      <th></th>\n",
       "      <th>YEAR</th>\n",
       "      <th>BLEACHING_SEVERITY</th>\n",
       "    </tr>\n",
       "  </thead>\n",
       "  <tbody>\n",
       "    <tr>\n",
       "      <th>5</th>\n",
       "      <td>2010</td>\n",
       "      <td>Severity Unknown</td>\n",
       "    </tr>\n",
       "    <tr>\n",
       "      <th>31</th>\n",
       "      <td>2010</td>\n",
       "      <td>HIGH</td>\n",
       "    </tr>\n",
       "    <tr>\n",
       "      <th>40</th>\n",
       "      <td>2010</td>\n",
       "      <td>HIGH</td>\n",
       "    </tr>\n",
       "    <tr>\n",
       "      <th>44</th>\n",
       "      <td>2010</td>\n",
       "      <td>HIGH</td>\n",
       "    </tr>\n",
       "    <tr>\n",
       "      <th>45</th>\n",
       "      <td>2010</td>\n",
       "      <td>HIGH</td>\n",
       "    </tr>\n",
       "    <tr>\n",
       "      <th>...</th>\n",
       "      <td>...</td>\n",
       "      <td>...</td>\n",
       "    </tr>\n",
       "    <tr>\n",
       "      <th>6084</th>\n",
       "      <td>2010</td>\n",
       "      <td>No Bleaching</td>\n",
       "    </tr>\n",
       "    <tr>\n",
       "      <th>6085</th>\n",
       "      <td>2010</td>\n",
       "      <td>No Bleaching</td>\n",
       "    </tr>\n",
       "    <tr>\n",
       "      <th>6090</th>\n",
       "      <td>2010</td>\n",
       "      <td>Severity Unknown</td>\n",
       "    </tr>\n",
       "    <tr>\n",
       "      <th>6091</th>\n",
       "      <td>2010</td>\n",
       "      <td>No Bleaching</td>\n",
       "    </tr>\n",
       "    <tr>\n",
       "      <th>6092</th>\n",
       "      <td>2010</td>\n",
       "      <td>Severity Unknown</td>\n",
       "    </tr>\n",
       "  </tbody>\n",
       "</table>\n",
       "<p>205 rows × 2 columns</p>\n",
       "</div>"
      ],
      "text/plain": [
       "      YEAR BLEACHING_SEVERITY\n",
       "5     2010   Severity Unknown\n",
       "31    2010               HIGH\n",
       "40    2010               HIGH\n",
       "44    2010               HIGH\n",
       "45    2010               HIGH\n",
       "...    ...                ...\n",
       "6084  2010       No Bleaching\n",
       "6085  2010       No Bleaching\n",
       "6090  2010   Severity Unknown\n",
       "6091  2010       No Bleaching\n",
       "6092  2010   Severity Unknown\n",
       "\n",
       "[205 rows x 2 columns]"
      ]
     },
     "execution_count": 17,
     "metadata": {},
     "output_type": "execute_result"
    }
   ],
   "source": [
    "coral2010 = trimmed_coral[trimmed_coral['YEAR'] == '2010']\n",
    "coral2010"
   ]
  },
  {
   "cell_type": "markdown",
   "metadata": {},
   "source": [
    "There are a total number of 205 data entries for 2010."
   ]
  },
  {
   "cell_type": "markdown",
   "metadata": {},
   "source": [
    "### Find the percentage of corals with high bleaching severity in 2010"
   ]
  },
  {
   "cell_type": "code",
   "execution_count": 18,
   "metadata": {},
   "outputs": [
    {
     "data": {
      "text/plain": [
       "0.05365853658536585"
      ]
     },
     "execution_count": 18,
     "metadata": {},
     "output_type": "execute_result"
    }
   ],
   "source": [
    "high2010 = len(coral2010[coral2010['BLEACHING_SEVERITY'] == 'HIGH'])/len(coral2010)\n",
    "high2010"
   ]
  },
  {
   "cell_type": "markdown",
   "metadata": {},
   "source": [
    "The calculation shows that there is about 5.37% of corals with a high bleaching severity in 2010, which is very likely to be not accurate as coral bleaching increases by year. To figure out the problem in the calculation, a bar graph could be created."
   ]
  },
  {
   "cell_type": "code",
   "execution_count": 19,
   "metadata": {},
   "outputs": [],
   "source": [
    "import math\n",
    "import pandas as pd"
   ]
  },
  {
   "cell_type": "markdown",
   "metadata": {},
   "source": [
    "### Plot the bleaching severity in 2000 and 2010 on a bar graph"
   ]
  },
  {
   "cell_type": "code",
   "execution_count": 20,
   "metadata": {},
   "outputs": [
    {
     "data": {
      "text/html": [
       "<div>\n",
       "<style scoped>\n",
       "    .dataframe tbody tr th:only-of-type {\n",
       "        vertical-align: middle;\n",
       "    }\n",
       "\n",
       "    .dataframe tbody tr th {\n",
       "        vertical-align: top;\n",
       "    }\n",
       "\n",
       "    .dataframe thead th {\n",
       "        text-align: right;\n",
       "    }\n",
       "</style>\n",
       "<table border=\"1\" class=\"dataframe\">\n",
       "  <thead>\n",
       "    <tr style=\"text-align: right;\">\n",
       "      <th></th>\n",
       "      <th>index</th>\n",
       "      <th>BLEACHING_SEVERITY</th>\n",
       "    </tr>\n",
       "  </thead>\n",
       "  <tbody>\n",
       "    <tr>\n",
       "      <th>0</th>\n",
       "      <td>Low</td>\n",
       "      <td>59</td>\n",
       "    </tr>\n",
       "    <tr>\n",
       "      <th>1</th>\n",
       "      <td>Severity Unknown</td>\n",
       "      <td>57</td>\n",
       "    </tr>\n",
       "    <tr>\n",
       "      <th>2</th>\n",
       "      <td>HIGH</td>\n",
       "      <td>28</td>\n",
       "    </tr>\n",
       "    <tr>\n",
       "      <th>3</th>\n",
       "      <td>Medium</td>\n",
       "      <td>23</td>\n",
       "    </tr>\n",
       "    <tr>\n",
       "      <th>4</th>\n",
       "      <td>No Bleaching</td>\n",
       "      <td>3</td>\n",
       "    </tr>\n",
       "  </tbody>\n",
       "</table>\n",
       "</div>"
      ],
      "text/plain": [
       "              index  BLEACHING_SEVERITY\n",
       "0               Low                  59\n",
       "1  Severity Unknown                  57\n",
       "2              HIGH                  28\n",
       "3            Medium                  23\n",
       "4      No Bleaching                   3"
      ]
     },
     "execution_count": 20,
     "metadata": {},
     "output_type": "execute_result"
    }
   ],
   "source": [
    "c2000 = coral2000['BLEACHING_SEVERITY'].value_counts().reset_index()\n",
    "c2000"
   ]
  },
  {
   "cell_type": "markdown",
   "metadata": {},
   "source": [
    "#### Reorganize the columns of the bar chart"
   ]
  },
  {
   "cell_type": "code",
   "execution_count": 21,
   "metadata": {},
   "outputs": [
    {
     "data": {
      "text/plain": [
       "<matplotlib.axes._subplots.AxesSubplot at 0x7fb7d53388e0>"
      ]
     },
     "execution_count": 21,
     "metadata": {},
     "output_type": "execute_result"
    },
    {
     "data": {
      "image/png": "[encoded data removed]",
      "text/plain": [
       "<Figure size 432x288 with 1 Axes>"
      ]
     },
     "metadata": {
      "needs_background": "light"
     },
     "output_type": "display_data"
    }
   ],
   "source": [
    "c2000 = pd.DataFrame({'BLEACHING_SEVERITY':['Severity Unknown', 'No Bleaching','Low','Medium', 'HIGH'],'COUNT':[57,3,59,23,28]})\n",
    "c2000.plot.bar(x='BLEACHING_SEVERITY',y='COUNT')"
   ]
  },
  {
   "cell_type": "markdown",
   "metadata": {},
   "source": [
    "The bar graph shows that there is a high percentage of corals whose bleaching severity is unknown, which is unhelpful to the calculation of percentage. "
   ]
  },
  {
   "cell_type": "code",
   "execution_count": 22,
   "metadata": {},
   "outputs": [
    {
     "data": {
      "text/html": [
       "<div>\n",
       "<style scoped>\n",
       "    .dataframe tbody tr th:only-of-type {\n",
       "        vertical-align: middle;\n",
       "    }\n",
       "\n",
       "    .dataframe tbody tr th {\n",
       "        vertical-align: top;\n",
       "    }\n",
       "\n",
       "    .dataframe thead th {\n",
       "        text-align: right;\n",
       "    }\n",
       "</style>\n",
       "<table border=\"1\" class=\"dataframe\">\n",
       "  <thead>\n",
       "    <tr style=\"text-align: right;\">\n",
       "      <th></th>\n",
       "      <th>index</th>\n",
       "      <th>BLEACHING_SEVERITY</th>\n",
       "    </tr>\n",
       "  </thead>\n",
       "  <tbody>\n",
       "    <tr>\n",
       "      <th>0</th>\n",
       "      <td>Severity Unknown</td>\n",
       "      <td>95</td>\n",
       "    </tr>\n",
       "    <tr>\n",
       "      <th>1</th>\n",
       "      <td>No Bleaching</td>\n",
       "      <td>85</td>\n",
       "    </tr>\n",
       "    <tr>\n",
       "      <th>2</th>\n",
       "      <td>HIGH</td>\n",
       "      <td>11</td>\n",
       "    </tr>\n",
       "    <tr>\n",
       "      <th>3</th>\n",
       "      <td>Medium</td>\n",
       "      <td>7</td>\n",
       "    </tr>\n",
       "    <tr>\n",
       "      <th>4</th>\n",
       "      <td>Low</td>\n",
       "      <td>7</td>\n",
       "    </tr>\n",
       "  </tbody>\n",
       "</table>\n",
       "</div>"
      ],
      "text/plain": [
       "              index  BLEACHING_SEVERITY\n",
       "0  Severity Unknown                  95\n",
       "1      No Bleaching                  85\n",
       "2              HIGH                  11\n",
       "3            Medium                   7\n",
       "4               Low                   7"
      ]
     },
     "execution_count": 22,
     "metadata": {},
     "output_type": "execute_result"
    }
   ],
   "source": [
    "c2010 = coral2010['BLEACHING_SEVERITY'].value_counts().reset_index()\n",
    "c2010"
   ]
  },
  {
   "cell_type": "markdown",
   "metadata": {},
   "source": [
    "#### Reorganize the columns of the 2010 bar chart"
   ]
  },
  {
   "cell_type": "code",
   "execution_count": 23,
   "metadata": {},
   "outputs": [
    {
     "data": {
      "text/plain": [
       "<matplotlib.axes._subplots.AxesSubplot at 0x7fb7d51d1460>"
      ]
     },
     "execution_count": 23,
     "metadata": {},
     "output_type": "execute_result"
    },
    {
     "data": {
      "image/png": "[encoded data removed]",
      "text/plain": [
       "<Figure size 432x288 with 1 Axes>"
      ]
     },
     "metadata": {
      "needs_background": "light"
     },
     "output_type": "display_data"
    }
   ],
   "source": [
    "c2010 = pd.DataFrame({'BLEACHING_SEVERITY':['Severity Unknown', 'No Bleaching','Low','Medium', 'HIGH'],'COUNT':[95,85,7,7,11]})\n",
    "c2010.plot.bar(x='BLEACHING_SEVERITY',y='COUNT')"
   ]
  },
  {
   "cell_type": "markdown",
   "metadata": {},
   "source": [
    "Similar to the 2000 bar chart, this 2010 bar chart also shows a high percentage of corals with unknown bleaching severity, which means that the percentage calculation above may not be meaninful. Therefore, other points of comparison need to be found. "
   ]
  }
 ],
 "metadata": {
  "kernelspec": {
   "display_name": "Python 3",
   "language": "python",
   "name": "python3"
  },
  "language_info": {
   "codemirror_mode": {
    "name": "ipython",
    "version": 3
   },
   "file_extension": ".py",
   "mimetype": "text/x-python",
   "name": "python",
   "nbconvert_exporter": "python",
   "pygments_lexer": "ipython3",
   "version": "3.8.5"
  },
  "toc": {
   "base_numbering": 1,
   "nav_menu": {},
   "number_sections": true,
   "sideBar": true,
   "skip_h1_title": false,
   "title_cell": "Table of Contents",
   "title_sidebar": "Contents",
   "toc_cell": false,
   "toc_position": {},
   "toc_section_display": true,
   "toc_window_display": false
  }
 },
 "nbformat": 4,
 "nbformat_minor": 4
}
