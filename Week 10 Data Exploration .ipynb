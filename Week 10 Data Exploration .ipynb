{
 "cells": [
  {
   "cell_type": "markdown",
   "id": "removable-workstation",
   "metadata": {},
   "source": [
    "## Week 10 Spatial Analysis"
   ]
  },
  {
   "cell_type": "code",
   "execution_count": 1,
   "id": "conscious-hawaiian",
   "metadata": {
    "scrolled": false
   },
   "outputs": [
    {
     "name": "stderr",
     "output_type": "stream",
     "text": [
      "/opt/conda/lib/python3.8/site-packages/geopandas/_compat.py:106: UserWarning: The Shapely GEOS version (3.8.1-CAPI-1.13.3) is incompatible with the GEOS version PyGEOS was compiled with (3.9.0-CAPI-1.16.2). Conversions between both will be slow.\n",
      "  warnings.warn(\n"
     ]
    }
   ],
   "source": [
    "import geopandas as gpd\n",
    "import matplotlib.pyplot as plt\n",
    "import pandas as pd\n",
    "import contextily as ctx\n",
    "from sodapy import Socrata\n",
    "\n",
    "\n",
    "import seaborn as sns\n",
    "\n",
    "from pointpats import centrography\n",
    "from matplotlib.patches import Ellipse\n",
    "import numpy"
   ]
  },
  {
   "cell_type": "markdown",
   "id": "computational-adobe",
   "metadata": {},
   "source": [
    "### Import the file"
   ]
  },
  {
   "cell_type": "code",
   "execution_count": 2,
   "id": "concerned-contribution",
   "metadata": {},
   "outputs": [],
   "source": [
    "coral0 = gpd.read_file('CoralBleaching.csv')"
   ]
  },
  {
   "cell_type": "code",
   "execution_count": 3,
   "id": "matched-lithuania",
   "metadata": {},
   "outputs": [],
   "source": [
    "coral0 = coral0.drop(columns=['geometry'])"
   ]
  },
  {
   "cell_type": "markdown",
   "id": "seventh-gentleman",
   "metadata": {},
   "source": [
    "### Convert the file into a proper GeoDataFrame"
   ]
  },
  {
   "cell_type": "code",
   "execution_count": 4,
   "id": "every-framing",
   "metadata": {},
   "outputs": [],
   "source": [
    "coral = pd.DataFrame(coral0)"
   ]
  },
  {
   "cell_type": "code",
   "execution_count": 5,
   "id": "comparative-sphere",
   "metadata": {},
   "outputs": [
    {
     "data": {
      "text/plain": [
       "pandas.core.frame.DataFrame"
      ]
     },
     "execution_count": 5,
     "metadata": {},
     "output_type": "execute_result"
    }
   ],
   "source": [
    "type(coral)"
   ]
  },
  {
   "cell_type": "code",
   "execution_count": 6,
   "id": "naughty-teens",
   "metadata": {},
   "outputs": [],
   "source": [
    "coral.LON = coral.LON.astype('float')\n",
    "coral.LAT = coral.LAT.astype('float')"
   ]
  },
  {
   "cell_type": "markdown",
   "id": "uniform-large",
   "metadata": {},
   "source": [
    "### Fix the wrong value in the dataset"
   ]
  },
  {
   "cell_type": "code",
   "execution_count": 7,
   "id": "racial-somewhere",
   "metadata": {},
   "outputs": [
    {
     "data": {
      "text/plain": [
       "ID                                                                 29433\n",
       "REGION                                                           Pacific\n",
       "SUBREGION                                              Southwest Pacific\n",
       "COUNTRY                                                  Solomon Islands\n",
       "LOCATION                                                     Tuo village\n",
       "LAT                                                               -10269\n",
       "LON                                                              166.279\n",
       "MONTH                                                                  8\n",
       "YEAR                                                                2011\n",
       "DEPTH                                                              2.5 m\n",
       "SEVERITY_CODE                                                          0\n",
       "BLEACHING_SEVERITY                                          No Bleaching\n",
       "CORAL_FAMILY                                                            \n",
       "CORAL_SPECIES                                                           \n",
       "PERCENTAGE_AFFECTED                                                     \n",
       "BLEACHING_DURATION                                                      \n",
       "MORTALITY_CODE                                                          \n",
       "MORTALITY                                                               \n",
       "RECOVERY_CODE                                                           \n",
       "RECOVERY                                                                \n",
       "SURVEY_TYPE                                            Reef Check survey\n",
       "SURVEY_AREA                                                             \n",
       "WATER_TEMPERATURE      Air temperature 30 deg C, water temperature 28...\n",
       "OTHER_FACTORS                                                           \n",
       "REMARKS                                                                 \n",
       "SOURCE                   Reef Check submitted by Noelle van der Straaten\n",
       "REFERENCE_CODE                                                          \n",
       "COUNTRY_CODE                                                         SLB\n",
       "Name: 6087, dtype: object"
      ]
     },
     "execution_count": 7,
     "metadata": {},
     "output_type": "execute_result"
    }
   ],
   "source": [
    "coral.loc[coral['LAT'].idxmin()]"
   ]
  },
  {
   "cell_type": "code",
   "execution_count": 8,
   "id": "former-manufacturer",
   "metadata": {},
   "outputs": [
    {
     "name": "stdout",
     "output_type": "stream",
     "text": [
      "[6087]\n"
     ]
    }
   ],
   "source": [
    "print(coral[coral['LAT']==-10269].index.values)"
   ]
  },
  {
   "cell_type": "code",
   "execution_count": 9,
   "id": "manufactured-monkey",
   "metadata": {},
   "outputs": [],
   "source": [
    "coral.loc[6087, 'LAT'] = -10.269"
   ]
  },
  {
   "cell_type": "code",
   "execution_count": 10,
   "id": "stuck-charger",
   "metadata": {},
   "outputs": [
    {
     "data": {
      "text/plain": [
       "-10.269"
      ]
     },
     "execution_count": 10,
     "metadata": {},
     "output_type": "execute_result"
    }
   ],
   "source": [
    "coral['LAT'][6087]"
   ]
  },
  {
   "cell_type": "markdown",
   "id": "seeing-christianity",
   "metadata": {},
   "source": [
    "### Plot a rough sketch of the dataset"
   ]
  },
  {
   "cell_type": "code",
   "execution_count": 11,
   "id": "genuine-athens",
   "metadata": {},
   "outputs": [],
   "source": [
    "coral = gpd.GeoDataFrame(coral, \n",
    "                     crs='EPSG:4326',\n",
    "                     geometry=gpd.points_from_xy(coral.LON, coral.LAT))"
   ]
  },
  {
   "cell_type": "code",
   "execution_count": 12,
   "id": "hybrid-ecology",
   "metadata": {
    "scrolled": true
   },
   "outputs": [
    {
     "data": {
      "text/plain": [
       "<matplotlib.axes._subplots.AxesSubplot at 0x7f5415ad3280>"
      ]
     },
     "execution_count": 12,
     "metadata": {},
     "output_type": "execute_result"
    },
    {
     "data": {
      "image/png": "[encoded data removed]",
      "text/plain": [
       "<Figure size 1440x1440 with 1 Axes>"
      ]
     },
     "metadata": {
      "needs_background": "light"
     },
     "output_type": "display_data"
    }
   ],
   "source": [
    "coral.plot(figsize=(20,20),\n",
    "             markersize=0.5)"
   ]
  },
  {
   "cell_type": "markdown",
   "id": "collectible-gibson",
   "metadata": {},
   "source": [
    "This map above is not able to tell us a lot, it just shows the distribution of all the points collected in the coral dataset."
   ]
  },
  {
   "cell_type": "markdown",
   "id": "closing-northeast",
   "metadata": {},
   "source": [
    "### Develop the plot based on what we want to investigate"
   ]
  },
  {
   "cell_type": "code",
   "execution_count": 13,
   "id": "olive-escape",
   "metadata": {},
   "outputs": [],
   "source": [
    "# import that interact library\n",
    "import ipywidgets as widgets\n",
    "from ipywidgets import interact, interact_manual"
   ]
  },
  {
   "cell_type": "code",
   "execution_count": 14,
   "id": "inappropriate-course",
   "metadata": {},
   "outputs": [
    {
     "data": {
      "text/plain": [
       "     6099\n",
       "3      47\n",
       "2      17\n",
       "0      15\n",
       "1      12\n",
       "Name: RECOVERY_CODE, dtype: int64"
      ]
     },
     "execution_count": 14,
     "metadata": {},
     "output_type": "execute_result"
    }
   ],
   "source": [
    "coral.RECOVERY_CODE.value_counts()"
   ]
  },
  {
   "cell_type": "markdown",
   "id": "metric-cement",
   "metadata": {},
   "source": [
    "### Create an interractive map that shows the distribution of corals in different stages of recovery"
   ]
  },
  {
   "cell_type": "code",
   "execution_count": 16,
   "id": "amended-commercial",
   "metadata": {
    "scrolled": false
   },
   "outputs": [
    {
     "data": {
      "application/vnd.jupyter.widget-view+json": {
       "model_id": "96bfbebc6e9b42969199d2ad4145cd8d",
       "version_major": 2,
       "version_minor": 0
      },
      "text/plain": [
       "interactive(children=(Dropdown(description='recovery', options=('0', '1', '2', '3'), value='0'), Output()), _d…"
      ]
     },
     "metadata": {},
     "output_type": "display_data"
    }
   ],
   "source": [
    "# to make this function interactive\n",
    "@interact\n",
    "\n",
    "# function argument will become interactive; feeds in a list\n",
    "def recovery_code(recovery=['0','1','2','3']):\n",
    "    # table\n",
    "    display(coral[coral.RECOVERY_CODE == recovery].head()) \n",
    "\n",
    "    # map\n",
    "    ax = coral[coral.RECOVERY_CODE == recovery].plot(figsize=(20,60), markersize=10)\n",
    "    \n",
    "    # axis\n",
    "    ax.axis('off')\n",
    "\n",
    "    # basemap\n",
    "    ctx.add_basemap(ax,\n",
    "                    crs='epsg:4326', # surprise! You can change the crs here!\n",
    "                    source=ctx.providers.CartoDB.Positron)"
   ]
  },
  {
   "cell_type": "markdown",
   "id": "brilliant-illinois",
   "metadata": {},
   "source": [
    "I'm not sure why the map cannot be extended in height even though I have alrerady set the height to be 60. \n",
    "Comparerd to the more than 6,000 total data collected, the number of data that has a valid recovery code is very small. Regardless, from the map, we can still see that better recovery seems to have been recorded in the Caribbean region in that more dots with 0 or 1 recovery code (the lower the score the higher the recovery) are observed in this region. "
   ]
  },
  {
   "cell_type": "markdown",
   "id": "resident-green",
   "metadata": {},
   "source": [
    "### Create a function to explore the centrography of coral mortality"
   ]
  },
  {
   "cell_type": "code",
   "execution_count": 47,
   "id": "level-enhancement",
   "metadata": {},
   "outputs": [],
   "source": [
    "def get_centrography(code='0'):\n",
    "    mortality = coral.loc[(coral['MORTALITY_CODE']== code)]\n",
    "    mortality['x'] = mortality.geometry.x\n",
    "    mortality['y'] = mortality.geometry.y\n",
    "    mean_center = centrography.mean_center(mortality[['x','y']])\n",
    "    med_center = centrography.euclidean_median(mortality[['x','y']])\n",
    "    # Generate scatter plot\n",
    "    g = sns.jointplot(\n",
    "        x='x', y='y', data=mortality, s=0.75, height=9\n",
    "    )\n",
    "\n",
    "    g.ax_joint.scatter(\n",
    "        *mean_center, color='red', marker='x', s=50, label='Mean Center'\n",
    "    )\n",
    "    g.ax_marg_x.axvline(mean_center[0], color='red')\n",
    "    g.ax_marg_y.axhline(mean_center[1], color='red')\n",
    "\n",
    "    g.ax_joint.scatter(\n",
    "        *med_center, color='limegreen', marker='o', s=50, label='Median Center'\n",
    "    )\n",
    "    g.ax_marg_x.axvline(med_center[0], color='limegreen')\n",
    "    g.ax_marg_y.axhline(med_center[1], color='limegreen')\n",
    "\n",
    "    g.ax_joint.legend()\n",
    "\n",
    "    ctx.add_basemap(\n",
    "        g.ax_joint, \n",
    "        crs='epsg:4326',\n",
    "        source=ctx.providers.CartoDB.Positron\n",
    "    )\n",
    "\n",
    "    g.ax_joint.set_axis_off()\n",
    "\n",
    "    # Display\n",
    "    plt.show()"
   ]
  },
  {
   "cell_type": "code",
   "execution_count": 49,
   "id": "decreased-garage",
   "metadata": {},
   "outputs": [
    {
     "name": "stderr",
     "output_type": "stream",
     "text": [
      "/opt/conda/lib/python3.8/site-packages/geopandas/geodataframe.py:1322: SettingWithCopyWarning: \n",
      "A value is trying to be set on a copy of a slice from a DataFrame.\n",
      "Try using .loc[row_indexer,col_indexer] = value instead\n",
      "\n",
      "See the caveats in the documentation: https://pandas.pydata.org/pandas-docs/stable/user_guide/indexing.html#returning-a-view-versus-a-copy\n",
      "  super(GeoDataFrame, self).__setitem__(key, value)\n"
     ]
    },
    {
     "data": {
      "image/png": "[encoded data removed]",
      "text/plain": [
       "<Figure size 648x648 with 3 Axes>"
      ]
     },
     "metadata": {
      "needs_background": "light"
     },
     "output_type": "display_data"
    }
   ],
   "source": [
    "get_centrography(code='3')"
   ]
  },
  {
   "cell_type": "markdown",
   "id": "hispanic-society",
   "metadata": {},
   "source": [
    "I find that centrography might not be very useful to look at my dataset since the mean center and median center do not really reflect how these points are clustered. From the above graph, for example, it seems that the mean center is found on the land of Eastern Africa, while the median center is found not far away from it in the Indian Ocean. Perhaps a better way to look at my data would be to look at more local areas or to focus more on the graphs like hex-binning."
   ]
  }
 ],
 "metadata": {
  "kernelspec": {
   "display_name": "Python 3",
   "language": "python",
   "name": "python3"
  },
  "language_info": {
   "codemirror_mode": {
    "name": "ipython",
    "version": 3
   },
   "file_extension": ".py",
   "mimetype": "text/x-python",
   "name": "python",
   "nbconvert_exporter": "python",
   "pygments_lexer": "ipython3",
   "version": "3.8.5"
  },
  "toc": {
   "base_numbering": 1,
   "nav_menu": {},
   "number_sections": true,
   "sideBar": true,
   "skip_h1_title": false,
   "title_cell": "Table of Contents",
   "title_sidebar": "Contents",
   "toc_cell": false,
   "toc_position": {},
   "toc_section_display": true,
   "toc_window_display": false
  }
 },
 "nbformat": 4,
 "nbformat_minor": 5
}
